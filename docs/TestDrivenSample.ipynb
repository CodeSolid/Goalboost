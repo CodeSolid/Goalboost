{
 "cells": [
  {
   "cell_type": "markdown",
   "metadata": {},
   "source": [
    "# TestDriven Sample\n",
    "In this notebook we show how to use the [requests api](http://docs.python-requests.org/en/latest/index.html) to try out a test Alguito resource endpoint.  We are trying to get a list of \"alguitos\", which is just a fake endpoint we're using for now to test out our authentication.\n",
    "\n",
    "In true test-driven style, we write a \"failed test\" first (actually that test passes too in a way, but we get a not-authorized error, as expected.\n"
   ]
  },
  {
   "cell_type": "code",
   "execution_count": 1,
   "metadata": {},
   "outputs": [],
   "source": [
    "import requests # Install with \"sudo pip3 install requests\"\n",
    "import json     # Should already have this with Python -- used here for parsing output."
   ]
  },
  {
   "cell_type": "markdown",
   "metadata": {},
   "source": [
    "## Write a failed test\n",
    "With the server running locally, then the following will give status code 401 (not authrorized -- see http://www.w3.org/Protocols/rfc2616/rfc2616-sec10.html) because it's locked down and no credentials are provided."
   ]
  },
  {
   "cell_type": "code",
   "execution_count": 3,
   "metadata": {},
   "outputs": [],
   "source": [
    "response = requests.get('http://localhost:5001/api/alguitos')\n",
    "response.status_code"
   ]
  },
  {
   "cell_type": "markdown",
   "metadata": {},
   "source": [
    "We can also get the text associated with the response"
   ]
  },
  {
   "cell_type": "code",
   "execution_count": 4,
   "metadata": {},
   "outputs": [],
   "source": [
    "response.text"
   ]
  },
  {
   "cell_type": "markdown",
   "metadata": {},
   "source": [
    "## Make the test pass\n",
    "The CodeSolid Team owns one of the Alguitos, so if we log in as a team member, we'll be able to see the alguito\n"
   ]
  },
  {
   "cell_type": "code",
   "execution_count": 5,
   "metadata": {},
   "outputs": [],
   "source": [
    "response = requests.get('http://localhost:5001/api/alguitos', auth=('elitepropertiesbroker@gmail.com', 'Foopdewop1912'))\n",
    "response.status_code"
   ]
  },
  {
   "cell_type": "code",
   "execution_count": 6,
   "metadata": {},
   "outputs": [],
   "source": [
    "# We could show the response this way, but this method would be a little ugly if run alone\n",
    "response.text\n",
    "\n",
    "# Instead, let's clean it up a bit (and also get a \"dict\", which is easier to work with:\n",
    "response_dict = json.loads(response.text)\n",
    "response_dict"
   ]
  },
  {
   "cell_type": "code",
   "execution_count": 7,
   "metadata": {},
   "outputs": [],
   "source": [
    "# Note the items returned correspond to the team of the account!\n",
    "response_dict[\"_items\"][0][\"team\"]"
   ]
  },
  {
   "cell_type": "code",
   "execution_count": null,
   "metadata": {},
   "outputs": [],
   "source": [
    ""
   ]
  }
 ],
 "metadata": {
  "kernelspec": {
   "display_name": "Python 3",
   "language": "python",
   "name": "python3"
  },
  "language_info": {
   "codemirror_mode": {
    "name": "ipython",
    "version": 3.0
   },
   "file_extension": ".py",
   "mimetype": "text/x-python",
   "name": "python",
   "nbconvert_exporter": "python",
   "pygments_lexer": "ipython3",
   "version": "3.4.0"
  }
 },
 "nbformat": 4,
 "nbformat_minor": 0
}